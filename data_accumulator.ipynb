{
 "cells": [
  {
   "cell_type": "code",
   "execution_count": 1,
   "metadata": {},
   "outputs": [],
   "source": [
    "import os\n",
    "import numpy as np"
   ]
  },
  {
   "cell_type": "code",
   "execution_count": 2,
   "metadata": {},
   "outputs": [
    {
     "name": "stdout",
     "output_type": "stream",
     "text": [
      "['.ipynb_checkpoints', '2_d_blood_vessel_pnts.npy', '2_d_regular_brain_pnts.npy', '2_d_tumor_pnts.npy', 'AutoEncoder.ipynb', 'bailey', 'blood_vessels_data_pts.npy', 'blood_vessel_ts.npy', 'chessher', 'data_accumulator.ipynb', 'decision_tree.ipynb', 'Edmondson', 'finch', 'Garris', 'gostkowski', 'Gryder', 'Larsson', 'LSM.ipynb', 'lstm_blood_vessel_output.npy', 'lstm_regular_brain_output.npy', 'lstm_tumor_output.npy', 'marks', 'mccall', 'milligan', 'playground.ipynb', 'regular_brain_ts.npy', 'sharp', 'spikeView.py', 'stevens', 'Tumors', 'tumor_data_pts.npy', 'tumor_lsm_output.npy', 'tumor_ts.npy', 'underwood', 'Untitled.ipynb']\n",
      "C:\\Users\\Cmorgan1\\data_aquisition\n"
     ]
    }
   ],
   "source": [
    "print(os.listdir(os.getcwd()))\n",
    "print(os.getcwd())"
   ]
  },
  {
   "cell_type": "markdown",
   "metadata": {},
   "source": [
    "## Function to collect specific type of data "
   ]
  },
  {
   "cell_type": "code",
   "execution_count": 3,
   "metadata": {},
   "outputs": [],
   "source": [
    "def get_numpy_arr_of_type(input_type, path = ''):\n",
    "    if path == '':\n",
    "        path = os.getcwd()\n",
    "    folders = os.listdir(path)\n",
    "    points = np.empty((0,3), int)\n",
    "    grid = np.empty((0,17,17,17), int)\n",
    "    for folder in folders:\n",
    "        if folder.find('.ipynb') == -1 and folder.find('.py') == -1 and folder.find('.npy') == -1:\n",
    "            print(os.path.join(path, folder))\n",
    "            files = os.listdir(os.path.join(path, folder))\n",
    "            for file in files:\n",
    "                if str(file).endswith('.npy') and file.find(input_type) != -1:\n",
    "                    ar = np.load(os.path.join(path,folder, file))\n",
    "                    if str(file).endswith('pts.npy'):\n",
    "                        points = np.vstack([points,ar])\n",
    "                    else:\n",
    "                        grid = np.vstack([grid, ar])\n",
    "                        \n",
    "    return grid, points\n",
    "                    "
   ]
  },
  {
   "cell_type": "markdown",
   "metadata": {},
   "source": [
    "## Function to convert to 51 by 17 format\n",
    "version2d has been changed so that it is now completely vectorized "
   ]
  },
  {
   "cell_type": "code",
   "execution_count": 4,
   "metadata": {},
   "outputs": [
    {
     "data": {
      "text/plain": [
       "\"if __name__ == '__main__':\\n\\n    threshold = 0.7\\n    num1 = 2\\n#    a = np.load('../tumorBrain_M_17/test_17_patient_underwood_test2.npy')\\n#    b1 = a[num1,:,:,:]\\n#    out1 = version2D(b1, threshold)\\n#    np.save('data/underwood2_array' + str(num1) + '.npy', out1) \\n    dname = 'marks_array' + str(num1) + '.npy'\\n    showResults(dname)\""
      ]
     },
     "execution_count": 4,
     "metadata": {},
     "output_type": "execute_result"
    }
   ],
   "source": [
    "import numpy as np\n",
    "import matplotlib.pyplot as plt\n",
    "\n",
    "def version1D(b1):\n",
    "    c1 = (np.sum(b1, axis=0)).reshape(17*17)\n",
    "    c2 = (np.sum(b1, axis=1)).reshape(17*17)\n",
    "    c3 = (np.sum(b1, axis=2)).reshape(17*17)\n",
    "    print(c1.shape)\n",
    "\n",
    "    # why not np.rint ? (what exactly is this doing)\n",
    "    c1 = (1-0)*((c1-np.min(c1))/(np.max(c1) - np.min(c1)))\n",
    "    c2 = (1-0)*((c2-np.min(c2))/(np.max(c2) - np.min(c2)))\n",
    "    c3 = (1-0)*((c3-np.min(c3))/(np.max(c3) - np.min(c3)))\n",
    "    \n",
    "    #d = b1.reshape(17*17*17)\n",
    "    # why 306? \n",
    "    p = np.arange(0,306,17)\n",
    "    spikes = np.zeros((3, 17))\n",
    "    ave = np.mean(c1)\n",
    "    std1 = np.std(c1)\n",
    "\n",
    "    for t in range(17):\n",
    "        max1 = np.max(c1[p[t]:p[t+1]])\n",
    "        max2 = np.max(c2[p[t]:p[t+1]])\n",
    "        max3 = np.max(c3[p[t]:p[t+1]])\n",
    "        if max1 > 0.65: #ave + 1*std1:\n",
    "            spikes[0,t] = 1\n",
    "        if max2 > 0.65: #ave + 1*std1:\n",
    "            spikes[1,t] = 1\n",
    "        if max2 > 0.65: #ave + 1*std1:\n",
    "            spikes[2,t] = 1\n",
    "    print(spikes)\n",
    "\n",
    "    #plt.plot(d)\n",
    "    #plt.show()\n",
    "\n",
    "    fig, (ax1, ax2, ax3) = plt.subplots(3, 1, sharex=True)\n",
    "    ax1.plot(c1)\n",
    "    ax2.plot(c2)\n",
    "    ax3.plot(c3)\n",
    "    plt.show()\n",
    "\n",
    "def version2D(b1, threshold):\n",
    "    c1 = (np.sum(b1, axis=0))\n",
    "    c2 = (np.sum(b1, axis=1))\n",
    "    c3 = (np.sum(b1, axis=2))\n",
    "\n",
    "    c1 = (1-0)*((c1-np.min(c1))/(np.max(c1) - np.min(c1)))\n",
    "    c2 = (1-0)*((c2-np.min(c2))/(np.max(c2) - np.min(c2)))\n",
    "    c3 = (1-0)*((c3-np.min(c3))/(np.max(c3) - np.min(c3)))\n",
    "\n",
    "    d1 = np.zeros((17,17))\n",
    "    d2 = np.zeros((17,17))\n",
    "    d3 = np.zeros((17,17))\n",
    "    \n",
    "    c1 -= (threshold - .5)\n",
    "    c2 -= (threshold - .5)\n",
    "    c3 -= (threshold - .5)\n",
    "    \n",
    "    d1 = np.rint(c1)\n",
    "    d2 = np.rint(c2)\n",
    "    d3 = np.rint(c3)\n",
    "\n",
    "    d4 = np.vstack([d1,d2,d3])\n",
    "    return d4\n",
    "\n",
    "def showResults(dname):\n",
    "\n",
    "    im = np.load('data/'+dname)\n",
    "    plt.imshow(im)\n",
    "    plt.show()\n",
    "\n",
    "\n",
    "\"\"\"if __name__ == '__main__':\n",
    "\n",
    "    threshold = 0.7\n",
    "    num1 = 2\n",
    "#    a = np.load('../tumorBrain_M_17/test_17_patient_underwood_test2.npy')\n",
    "#    b1 = a[num1,:,:,:]\n",
    "#    out1 = version2D(b1, threshold)\n",
    "#    np.save('data/underwood2_array' + str(num1) + '.npy', out1) \n",
    "    dname = 'marks_array' + str(num1) + '.npy'\n",
    "    showResults(dname)\"\"\"\n"
   ]
  },
  {
   "cell_type": "markdown",
   "metadata": {},
   "source": [
    "## Functions to interact with output of version2d"
   ]
  },
  {
   "cell_type": "code",
   "execution_count": 5,
   "metadata": {},
   "outputs": [],
   "source": [
    "def visualize_data(points,  thresh, area):\n",
    "    for i in range(points.shape[0]):\n",
    "        print(i)\n",
    "        for x in area:\n",
    "            print(thresh + x)\n",
    "            data = version2D(points[i], thresh + x)\n",
    "            plt.imshow(data)\n",
    "            plt.show()\n",
    "        print() \n",
    "\n",
    "def get_rotations(points):\n",
    "    #computes 4 rotations of 90 degree turns around the z axis\n",
    "    results = []\n",
    "    for arr in points:\n",
    "        for i in range(4):\n",
    "            new_arr = np.rot90(arr, i, [1,2])\n",
    "            results.append(new_arr)\n",
    "    return np.array(results)\n",
    "\n",
    "def convert_2d(ar_points, threshold):\n",
    "    results = []\n",
    "    for points in ar_points:\n",
    "        results.append(version2D(points, threshold))\n",
    "    return np.array(results)"
   ]
  },
  {
   "cell_type": "code",
   "execution_count": 18,
   "metadata": {},
   "outputs": [
    {
     "name": "stdout",
     "output_type": "stream",
     "text": [
      "C:\\Users\\Cmorgan1\\data_aquisition\\bailey\n",
      "C:\\Users\\Cmorgan1\\data_aquisition\\chessher\n",
      "C:\\Users\\Cmorgan1\\data_aquisition\\Edmondson\n",
      "C:\\Users\\Cmorgan1\\data_aquisition\\finch\n",
      "C:\\Users\\Cmorgan1\\data_aquisition\\Garris\n",
      "C:\\Users\\Cmorgan1\\data_aquisition\\gostkowski\n",
      "C:\\Users\\Cmorgan1\\data_aquisition\\Gryder\n",
      "C:\\Users\\Cmorgan1\\data_aquisition\\Larsson\n",
      "C:\\Users\\Cmorgan1\\data_aquisition\\marks\n",
      "C:\\Users\\Cmorgan1\\data_aquisition\\mccall\n",
      "C:\\Users\\Cmorgan1\\data_aquisition\\milligan\n",
      "C:\\Users\\Cmorgan1\\data_aquisition\\sharp\n",
      "C:\\Users\\Cmorgan1\\data_aquisition\\stevens\n",
      "C:\\Users\\Cmorgan1\\data_aquisition\\Tumors\n",
      "C:\\Users\\Cmorgan1\\data_aquisition\\underwood\n"
     ]
    }
   ],
   "source": [
    "points, grid = get_numpy_arr_of_type(\"blood\", path = '')"
   ]
  },
  {
   "cell_type": "code",
   "execution_count": 19,
   "metadata": {},
   "outputs": [],
   "source": [
    "## cut off is set at .75\n",
    "rotations = get_rotations(points)\n",
    "results = convert_2d(rotations, .75)"
   ]
  },
  {
   "cell_type": "code",
   "execution_count": 21,
   "metadata": {},
   "outputs": [],
   "source": [
    "np.save(\"2_d_new_blood_vessel_pnts.npy\", results)"
   ]
  }
 ],
 "metadata": {
  "kernelspec": {
   "display_name": "Python 3",
   "language": "python",
   "name": "python3"
  },
  "language_info": {
   "codemirror_mode": {
    "name": "ipython",
    "version": 3
   },
   "file_extension": ".py",
   "mimetype": "text/x-python",
   "name": "python",
   "nbconvert_exporter": "python",
   "pygments_lexer": "ipython3",
   "version": "3.7.4"
  }
 },
 "nbformat": 4,
 "nbformat_minor": 2
}
